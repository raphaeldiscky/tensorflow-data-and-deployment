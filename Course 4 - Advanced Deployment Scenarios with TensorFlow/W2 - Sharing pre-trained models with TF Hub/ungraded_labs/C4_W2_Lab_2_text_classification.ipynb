{
  "cells": [
    {
      "cell_type": "markdown",
      "metadata": {
        "colab_type": "text",
        "id": "view-in-github"
      },
      "source": [
        "<a href=\"https://colab.research.google.com/github/https-deeplearning-ai/tensorflow-2-public/blob/adding_C4/C4/W2/ungraded_labs/C4_W2_Lab_2_text_classification.ipynb\" target=\"_parent\"><img src=\"https://colab.research.google.com/assets/colab-badge.svg\" alt=\"Open In Colab\"/></a>"
      ]
    },
    {
      "cell_type": "code",
      "execution_count": 1,
      "metadata": {
        "id": "zX4Kg8DUTKWO"
      },
      "outputs": [],
      "source": [
        "#@title Licensed under the Apache License, Version 2.0 (the \"License\");\n",
        "# you may not use this file except in compliance with the License.\n",
        "# You may obtain a copy of the License at\n",
        "#\n",
        "# https://www.apache.org/licenses/LICENSE-2.0\n",
        "#\n",
        "# Unless required by applicable law or agreed to in writing, software\n",
        "# distributed under the License is distributed on an \"AS IS\" BASIS,\n",
        "# WITHOUT WARRANTIES OR CONDITIONS OF ANY KIND, either express or implied.\n",
        "# See the License for the specific language governing permissions and\n",
        "# limitations under the License."
      ]
    },
    {
      "cell_type": "markdown",
      "metadata": {
        "id": "-N3Pz2T9mFZ-"
      },
      "source": [
        "##### Copyright 2019 The TensorFlow Authors."
      ]
    },
    {
      "cell_type": "code",
      "execution_count": 2,
      "metadata": {
        "cellView": "form",
        "id": "5p90mFICmFK2"
      },
      "outputs": [],
      "source": [
        "#@title Licensed under the Apache License, Version 2.0 (the \"License\");\n",
        "# you may not use this file except in compliance with the License.\n",
        "# You may obtain a copy of the License at\n",
        "#\n",
        "# https://www.apache.org/licenses/LICENSE-2.0\n",
        "#\n",
        "# Unless required by applicable law or agreed to in writing, software\n",
        "# distributed under the License is distributed on an \"AS IS\" BASIS,\n",
        "# WITHOUT WARRANTIES OR CONDITIONS OF ANY KIND, either express or implied.\n",
        "# See the License for the specific language governing permissions and\n",
        "# limitations under the License."
      ]
    },
    {
      "cell_type": "markdown",
      "metadata": {
        "id": "0IMg_z16l_2Z"
      },
      "source": [
        "# Text Classification\n",
        "\n",
        "In this notebook we will classify movie reviews as being either `positive` or `negative`. We'll use the [IMDB dataset](https://www.tensorflow.org/datasets/catalog/imdb_reviews) that contains the text of 50,000 movie reviews from the [Internet Movie Database](https://www.imdb.com/). These are split into 25,000 reviews for training and 25,000 reviews for testing. The training and testing sets are *balanced*, meaning they contain an equal number of positive and negative reviews."
      ]
    },
    {
      "cell_type": "markdown",
      "metadata": {
        "id": "l3JBInnkl_2a"
      },
      "source": [
        "# Setup"
      ]
    },
    {
      "cell_type": "code",
      "execution_count": 3,
      "metadata": {
        "id": "02pc7RECl_2b"
      },
      "outputs": [],
      "source": [
        "try:\n",
        "    %tensorflow_version 2.x\n",
        "except:\n",
        "    pass"
      ]
    },
    {
      "cell_type": "code",
      "execution_count": 4,
      "metadata": {
        "id": "-B-0zxxtwFQV",
        "scrolled": true
      },
      "outputs": [
        {
          "name": "stdout",
          "output_type": "stream",
          "text": [
            "• Using TensorFlow Version: 2.5.0\n"
          ]
        }
      ],
      "source": [
        "import tensorflow as tf\n",
        "import tensorflow_hub as hub\n",
        "import tensorflow_datasets as tfds\n",
        "tfds.disable_progress_bar()\n",
        "\n",
        "print(\"\\u2022 Using TensorFlow Version:\", tf.__version__)"
      ]
    },
    {
      "cell_type": "markdown",
      "metadata": {
        "id": "JBIRo8Xtl_2h"
      },
      "source": [
        "## Download the IMDB Dataset\n",
        "\n",
        "We will download the [IMDB dataset](https://www.tensorflow.org/datasets/catalog/imdb_reviews) using TensorFlow Datasets. We will use a training set, a validation set, and a test set. Since the IMDB dataset doesn't have a validation split, we will use the first 60\\% of the training set for training, and the last 40\\% of the training set for validation."
      ]
    },
    {
      "cell_type": "code",
      "execution_count": 5,
      "metadata": {
        "id": "gfnt5ibsl_2i",
        "scrolled": false
      },
      "outputs": [
        {
          "name": "stdout",
          "output_type": "stream",
          "text": [
            "\u001b[1mDownloading and preparing dataset Unknown size (download: Unknown size, generated: Unknown size, total: Unknown size) to C:\\Users\\hp\\tensorflow_datasets\\imdb_reviews\\plain_text\\1.0.0...\u001b[0m\n",
            "\u001b[1mDataset imdb_reviews downloaded and prepared to C:\\Users\\hp\\tensorflow_datasets\\imdb_reviews\\plain_text\\1.0.0. Subsequent calls will reuse this data.\u001b[0m\n"
          ]
        }
      ],
      "source": [
        "splits = ['train[:60%]', 'train[-40%:]', 'test']\n",
        "\n",
        "splits, info = tfds.load(name=\"imdb_reviews\", with_info=True, split=splits, as_supervised=True)\n",
        "\n",
        "train_data, validation_data, test_data = splits"
      ]
    },
    {
      "cell_type": "markdown",
      "metadata": {
        "id": "PbbsJKch1lL5"
      },
      "source": [
        "## Explore the Data \n",
        "\n",
        "Let's take a moment to look at the data."
      ]
    },
    {
      "cell_type": "code",
      "execution_count": 6,
      "metadata": {
        "id": "3gh4Taekl_2k"
      },
      "outputs": [
        {
          "name": "stdout",
          "output_type": "stream",
          "text": [
            "The Dataset has a total of:\n",
            "• 2 classes\n",
            "• 25,000 movie reviews for training\n",
            "• 25,000 movie reviews for testing\n"
          ]
        }
      ],
      "source": [
        "num_train_examples = info.splits['train'].num_examples\n",
        "num_test_examples = info.splits['test'].num_examples\n",
        "num_classes = info.features['label'].num_classes\n",
        "\n",
        "print('The Dataset has a total of:')\n",
        "print('\\u2022 {:,} classes'.format(num_classes))\n",
        "\n",
        "print('\\u2022 {:,} movie reviews for training'.format(num_train_examples))\n",
        "print('\\u2022 {:,} movie reviews for testing'.format(num_test_examples))"
      ]
    },
    {
      "cell_type": "markdown",
      "metadata": {
        "id": "SIyvvYFF2DXz"
      },
      "source": [
        "The labels are either 0 or 1, where 0 is a negative review, and 1 is a positive review. We will create a list with the corresponding class names, so that we can map labels to class names later on."
      ]
    },
    {
      "cell_type": "code",
      "execution_count": 7,
      "metadata": {
        "id": "1SAGQKTdl_2n"
      },
      "outputs": [],
      "source": [
        "class_names = ['negative', 'positive']"
      ]
    },
    {
      "cell_type": "markdown",
      "metadata": {
        "id": "wrLs9vQr16JH"
      },
      "source": [
        "Each example consists of a sentence representing the movie review and a corresponding label. The sentence is not preprocessed in any way. Let's take a look at the first example of the training set.  "
      ]
    },
    {
      "cell_type": "code",
      "execution_count": 8,
      "metadata": {
        "id": "u6lqHTTzl_2q"
      },
      "outputs": [
        {
          "name": "stdout",
          "output_type": "stream",
          "text": [
            "\n",
            "Movie Review:\n",
            "\n",
            " b\"This was an absolutely terrible movie. Don't be lured in by Christopher Walken or Michael Ironside. Both are great actors, but this must simply be their worst role in history. Even their great acting could not redeem this movie's ridiculous storyline. This movie is an early nineties US propaganda piece. The most pathetic scenes were those when the Columbian rebels were making their cases for revolutions. Maria Conchita Alonso appeared phony, and her pseudo-love affair with Walken was nothing but a pathetic emotional plug in a movie that was devoid of any real meaning. I am disappointed that there are movies like this, ruining actor's like Christopher Walken's good name. I could barely sit through it.\"\n",
            "\n",
            "Label: negative\n"
          ]
        }
      ],
      "source": [
        "for review, label in train_data.take(1):\n",
        "    review = review.numpy()\n",
        "    label = label.numpy()\n",
        "\n",
        "    print('\\nMovie Review:\\n\\n', review)\n",
        "    print('\\nLabel:', class_names[label])"
      ]
    },
    {
      "cell_type": "markdown",
      "metadata": {
        "id": "_Tam__wal_2s"
      },
      "source": [
        "## Load Word Embeddings\n",
        "\n",
        "In this example, the input data consists of sentences. The labels to predict are either 0 or 1.\n",
        "\n",
        "One way to represent the text is to convert sentences into word embeddings. Word embeddings, are an efficient way to represent words using dense vectors, where semantically similar words have similar vectors. We can use a pre-trained text embedding as the first layer of our model, which will have two advantages:\n",
        "\n",
        "*   We don't have to worry anout text preprocessing.\n",
        "*   We can benefit from transfer learning.\n",
        "\n",
        "For this example we will use a model from [TensorFlow Hub](https://tfhub.dev/) called [google/tf2-preview/gnews-swivel-20dim/1](https://tfhub.dev/google/tf2-preview/gnews-swivel-20dim/1). We'll create a `hub.KerasLayer` that uses the TensorFlow Hub model to embed the sentences. We can choose to fine-tune the TF hub module weights during training by setting the `trainable` parameter to `True`."
      ]
    },
    {
      "cell_type": "code",
      "execution_count": 9,
      "metadata": {
        "id": "wbYukNNs2y7H"
      },
      "outputs": [],
      "source": [
        "# if you are running the notebook on Colab\n",
        "embedding = \"https://tfhub.dev/google/tf2-preview/gnews-swivel-20dim/1\"\n",
        "\n",
        "# # if you are running the notebook on your local machine\n",
        "# embedding = \"./models/tf2-preview_gnews-swivel-20dim_1\"\n",
        "\n",
        "hub_layer = hub.KerasLayer(embedding, input_shape=[], dtype=tf.string, trainable=True)"
      ]
    },
    {
      "cell_type": "markdown",
      "metadata": {
        "id": "P6V9WM7Gl_2v"
      },
      "source": [
        "## Build Pipeline"
      ]
    },
    {
      "cell_type": "code",
      "execution_count": 10,
      "metadata": {
        "id": "IK1a7HTYl_2w"
      },
      "outputs": [],
      "source": [
        "batch_size = 512\n",
        "\n",
        "train_batches = train_data.shuffle(num_train_examples // 4).batch(batch_size).prefetch(1)\n",
        "validation_batches = validation_data.batch(batch_size).prefetch(1)\n",
        "test_batches = test_data.batch(batch_size)"
      ]
    },
    {
      "cell_type": "markdown",
      "metadata": {
        "id": "vJ8uZcqOl_2y"
      },
      "source": [
        "## Build the Model\n",
        "\n",
        "In the code below we will build a Keras `Sequential` model with the following layers:\n",
        "\n",
        "1. The first layer is a TensorFlow Hub layer. This layer uses a pre-trained SavedModel to map a sentence into its embedding vector. The model that we are using ([google/tf2-preview/gnews-swivel-20dim/1](https://tfhub.dev/google/tf2-preview/gnews-swivel-20dim/1)) splits the sentence into tokens, embeds each token and then combines the embedding. The resulting dimensions are: `(num_examples, embedding_dimension)`.\n",
        "\n",
        "\n",
        "2. This fixed-length output vector is piped through a fully-connected (`Dense`) layer with 16 hidden units.\n",
        "\n",
        "\n",
        "3. The last layer is densely connected with a single output node. Using the `sigmoid` activation function, this value is a float between 0 and 1, representing a probability, or confidence level."
      ]
    },
    {
      "cell_type": "code",
      "execution_count": 11,
      "metadata": {
        "id": "2mvUjhw02y9-"
      },
      "outputs": [],
      "source": [
        "model = tf.keras.Sequential([\n",
        "        hub_layer,\n",
        "        tf.keras.layers.Dense(16, activation='relu'),\n",
        "        tf.keras.layers.Dense(1, activation='sigmoid')])"
      ]
    },
    {
      "cell_type": "markdown",
      "metadata": {
        "id": "K-kJSvK57S5F"
      },
      "source": [
        "## Train the Model\n",
        "\n",
        "Since this is a binary classification problem and the model outputs a probability (a single-unit layer with a sigmoid activation), we'll use the `binary_crossentropy` loss function. "
      ]
    },
    {
      "cell_type": "code",
      "execution_count": 12,
      "metadata": {
        "id": "3S8wWDol2zBP"
      },
      "outputs": [
        {
          "name": "stdout",
          "output_type": "stream",
          "text": [
            "Epoch 1/20\n",
            "30/30 [==============================] - 4s 106ms/step - loss: 0.9274 - accuracy: 0.5462 - val_loss: 0.7040 - val_accuracy: 0.6060\n",
            "Epoch 2/20\n",
            "30/30 [==============================] - 3s 96ms/step - loss: 0.6650 - accuracy: 0.6305 - val_loss: 0.6254 - val_accuracy: 0.6569\n",
            "Epoch 3/20\n",
            "30/30 [==============================] - 3s 93ms/step - loss: 0.6065 - accuracy: 0.6815 - val_loss: 0.5928 - val_accuracy: 0.6878\n",
            "Epoch 4/20\n",
            "30/30 [==============================] - 3s 95ms/step - loss: 0.5741 - accuracy: 0.7101 - val_loss: 0.5676 - val_accuracy: 0.7089\n",
            "Epoch 5/20\n",
            "30/30 [==============================] - 3s 97ms/step - loss: 0.5454 - accuracy: 0.7332 - val_loss: 0.5441 - val_accuracy: 0.7266\n",
            "Epoch 6/20\n",
            "30/30 [==============================] - 3s 111ms/step - loss: 0.5180 - accuracy: 0.7550 - val_loss: 0.5198 - val_accuracy: 0.7469\n",
            "Epoch 7/20\n",
            "30/30 [==============================] - 3s 111ms/step - loss: 0.4896 - accuracy: 0.7777 - val_loss: 0.4956 - val_accuracy: 0.7669\n",
            "Epoch 8/20\n",
            "30/30 [==============================] - 3s 111ms/step - loss: 0.4613 - accuracy: 0.7945 - val_loss: 0.4708 - val_accuracy: 0.7818\n",
            "Epoch 9/20\n",
            "30/30 [==============================] - 3s 113ms/step - loss: 0.4318 - accuracy: 0.8138 - val_loss: 0.4471 - val_accuracy: 0.7984\n",
            "Epoch 10/20\n",
            "30/30 [==============================] - 3s 108ms/step - loss: 0.4028 - accuracy: 0.8283 - val_loss: 0.4240 - val_accuracy: 0.8115\n",
            "Epoch 11/20\n",
            "30/30 [==============================] - 3s 110ms/step - loss: 0.3784 - accuracy: 0.8423 - val_loss: 0.4057 - val_accuracy: 0.8203\n",
            "Epoch 12/20\n",
            "30/30 [==============================] - 3s 110ms/step - loss: 0.3504 - accuracy: 0.8585 - val_loss: 0.3848 - val_accuracy: 0.8314\n",
            "Epoch 13/20\n",
            "30/30 [==============================] - 3s 111ms/step - loss: 0.3264 - accuracy: 0.8715 - val_loss: 0.3697 - val_accuracy: 0.8373\n",
            "Epoch 14/20\n",
            "30/30 [==============================] - 3s 107ms/step - loss: 0.3046 - accuracy: 0.8825 - val_loss: 0.3544 - val_accuracy: 0.8445\n",
            "Epoch 15/20\n",
            "30/30 [==============================] - 3s 109ms/step - loss: 0.2848 - accuracy: 0.8926 - val_loss: 0.3423 - val_accuracy: 0.8507\n",
            "Epoch 16/20\n",
            "30/30 [==============================] - 3s 110ms/step - loss: 0.2656 - accuracy: 0.9014 - val_loss: 0.3338 - val_accuracy: 0.8559\n",
            "Epoch 17/20\n",
            "30/30 [==============================] - 3s 111ms/step - loss: 0.2485 - accuracy: 0.9079 - val_loss: 0.3235 - val_accuracy: 0.8600\n",
            "Epoch 18/20\n",
            "30/30 [==============================] - 3s 108ms/step - loss: 0.2324 - accuracy: 0.9161 - val_loss: 0.3186 - val_accuracy: 0.8634\n",
            "Epoch 19/20\n",
            "30/30 [==============================] - 3s 109ms/step - loss: 0.2173 - accuracy: 0.9219 - val_loss: 0.3115 - val_accuracy: 0.8669\n",
            "Epoch 20/20\n",
            "30/30 [==============================] - 3s 109ms/step - loss: 0.2041 - accuracy: 0.9299 - val_loss: 0.3072 - val_accuracy: 0.8676\n"
          ]
        }
      ],
      "source": [
        "model.compile(optimizer='adam',\n",
        "              loss='binary_crossentropy',\n",
        "              metrics=['accuracy'])\n",
        "\n",
        "history = model.fit(train_batches,\n",
        "                    epochs=20,\n",
        "                    validation_data=validation_batches)"
      ]
    },
    {
      "cell_type": "markdown",
      "metadata": {
        "id": "MyORnj-u8F_j"
      },
      "source": [
        "## Evaluate the Model\n",
        "\n",
        "We will now see how well our model performs on the testing set."
      ]
    },
    {
      "cell_type": "code",
      "execution_count": 13,
      "metadata": {
        "id": "Ch6hq1_kl_23"
      },
      "outputs": [
        {
          "name": "stdout",
          "output_type": "stream",
          "text": [
            "loss: 0.324\n",
            "accuracy: 0.86\n"
          ]
        }
      ],
      "source": [
        "eval_results = model.evaluate(test_batches, verbose=0)\n",
        "\n",
        "for metric, value in zip(model.metrics_names, eval_results):\n",
        "    print(metric + ': {:.3}'.format(value))"
      ]
    }
  ],
  "metadata": {
    "accelerator": "GPU",
    "colab": {
      "collapsed_sections": [],
      "include_colab_link": true,
      "name": "C4_W2_Lab_2_text_classification.ipynb",
      "provenance": [],
      "toc_visible": true
    },
    "kernelspec": {
      "display_name": "Python 3",
      "language": "python",
      "name": "python3"
    },
    "language_info": {
      "codemirror_mode": {
        "name": "ipython",
        "version": 3
      },
      "file_extension": ".py",
      "mimetype": "text/x-python",
      "name": "python",
      "nbconvert_exporter": "python",
      "pygments_lexer": "ipython3",
      "version": "3.9.7"
    }
  },
  "nbformat": 4,
  "nbformat_minor": 0
}
