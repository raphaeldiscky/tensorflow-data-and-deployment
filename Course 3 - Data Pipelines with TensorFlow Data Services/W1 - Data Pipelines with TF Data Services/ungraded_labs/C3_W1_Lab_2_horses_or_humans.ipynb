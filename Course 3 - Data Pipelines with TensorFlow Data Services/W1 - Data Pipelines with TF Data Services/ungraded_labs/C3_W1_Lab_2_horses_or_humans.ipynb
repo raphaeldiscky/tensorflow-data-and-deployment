{
  "cells": [
    {
      "cell_type": "markdown",
      "metadata": {
        "colab_type": "text",
        "id": "view-in-github"
      },
      "source": [
        "<a href=\"https://colab.research.google.com/github/https-deeplearning-ai/tensorflow-2-public/blob/adding_C3/C3/W1/ungraded_labs/C3_W1_Lab_2_horses_or_humans.ipynb\" target=\"_parent\"><img src=\"https://colab.research.google.com/assets/colab-badge.svg\" alt=\"Open In Colab\"/></a>"
      ]
    },
    {
      "cell_type": "markdown",
      "metadata": {
        "id": "L00LL6u6ruSQ"
      },
      "source": [
        "# Horses or Humans"
      ]
    },
    {
      "cell_type": "code",
      "execution_count": null,
      "metadata": {
        "id": "zX4Kg8DUTKWO"
      },
      "outputs": [],
      "source": [
        "#@title Licensed under the Apache License, Version 2.0 (the \"License\");\n",
        "# you may not use this file except in compliance with the License.\n",
        "# You may obtain a copy of the License at\n",
        "#\n",
        "# https://www.apache.org/licenses/LICENSE-2.0\n",
        "#\n",
        "# Unless required by applicable law or agreed to in writing, software\n",
        "# distributed under the License is distributed on an \"AS IS\" BASIS,\n",
        "# WITHOUT WARRANTIES OR CONDITIONS OF ANY KIND, either express or implied.\n",
        "# See the License for the specific language governing permissions and\n",
        "# limitations under the License."
      ]
    },
    {
      "cell_type": "code",
      "execution_count": 4,
      "metadata": {
        "id": "VdbXGq4JPnlA"
      },
      "outputs": [
        {
          "name": "stdout",
          "output_type": "stream",
          "text": [
            "Requirement already satisfied: tensorflow_addons in d:\\applications\\anaconda3\\envs\\tensorflow_gpu\\lib\\site-packages (0.16.1)\n",
            "Requirement already satisfied: typeguard>=2.7 in d:\\applications\\anaconda3\\envs\\tensorflow_gpu\\lib\\site-packages (from tensorflow_addons) (2.13.3)\n",
            "Note: you may need to restart the kernel to use updated packages.\n"
          ]
        }
      ],
      "source": [
        "%pip install tensorflow_addons"
      ]
    },
    {
      "cell_type": "code",
      "execution_count": 2,
      "metadata": {
        "id": "ioLbtB3uGKPX"
      },
      "outputs": [],
      "source": [
        "try:\n",
        "  # %tensorflow_version only exists in Colab.\n",
        "  %tensorflow_version 2.x\n",
        "except Exception:\n",
        "  pass"
      ]
    },
    {
      "cell_type": "code",
      "execution_count": 3,
      "metadata": {
        "id": "iSq4t32ZHHpt"
      },
      "outputs": [
        {
          "name": "stderr",
          "output_type": "stream",
          "text": [
            "D:\\Applications\\anaconda3\\envs\\tensorflow_gpu\\lib\\site-packages\\tensorflow_addons\\utils\\ensure_tf_install.py:53: UserWarning: Tensorflow Addons supports using Python ops for all Tensorflow versions above or equal to 2.6.0 and strictly below 2.9.0 (nightly versions are not supported). \n",
            " The versions of TensorFlow you are currently using is 2.5.0 and is not supported. \n",
            "Some things might work, some things might not.\n",
            "If you were to encounter a bug, do not file an issue.\n",
            "If you want to make sure you're using a tested and supported configuration, either change the TensorFlow version or the TensorFlow Addons's version. \n",
            "You can find the compatibility matrix in TensorFlow Addon's readme:\n",
            "https://github.com/tensorflow/addons\n",
            "  warnings.warn(\n"
          ]
        },
        {
          "name": "stdout",
          "output_type": "stream",
          "text": [
            "\u001b[1mDownloading and preparing dataset Unknown size (download: Unknown size, generated: Unknown size, total: Unknown size) to C:\\Users\\hp\\tensorflow_datasets\\horses_or_humans\\3.0.0...\u001b[0m\n"
          ]
        },
        {
          "name": "stderr",
          "output_type": "stream",
          "text": [
            "Dl Size...: 100%|██████████| 152/152 [00:40<00:00,  3.74 MiB/s]]\n",
            "Dl Completed...: 100%|██████████| 2/2 [00:40<00:00, 20.31s/ url]\n"
          ]
        },
        {
          "name": "stdout",
          "output_type": "stream",
          "text": [
            "\n",
            "\n"
          ]
        },
        {
          "name": "stderr",
          "output_type": "stream",
          "text": [
            "                                                                        \r"
          ]
        },
        {
          "name": "stdout",
          "output_type": "stream",
          "text": [
            "\u001b[1mDataset horses_or_humans downloaded and prepared to C:\\Users\\hp\\tensorflow_datasets\\horses_or_humans\\3.0.0. Subsequent calls will reuse this data.\u001b[0m\n"
          ]
        }
      ],
      "source": [
        "import tensorflow as tf\n",
        "import tensorflow_datasets as tfds\n",
        "import tensorflow_addons as tfa\n",
        "\n",
        "data = tfds.load('horses_or_humans', split='train', as_supervised=True)\n",
        "val_data = tfds.load('horses_or_humans', split='test', as_supervised=True)"
      ]
    },
    {
      "cell_type": "code",
      "execution_count": 5,
      "metadata": {
        "id": "Ni1_t7H0PVWI"
      },
      "outputs": [],
      "source": [
        "train_batches = data.shuffle(100).batch(32)\n",
        "validation_batches = val_data.batch(32)\n",
        "\n",
        "model = tf.keras.models.Sequential([\n",
        "    tf.keras.layers.Conv2D(16, (3,3), activation='relu', \n",
        "                                      input_shape=(300, 300, 3)),\n",
        "    tf.keras.layers.MaxPooling2D(2, 2),\n",
        "    tf.keras.layers.Conv2D(32, (3,3), activation='relu'),\n",
        "    tf.keras.layers.MaxPooling2D(2,2),\n",
        "    tf.keras.layers.Conv2D(64, (3,3), activation='relu'),\n",
        "    tf.keras.layers.MaxPooling2D(2,2),\n",
        "    tf.keras.layers.Conv2D(64, (3,3), activation='relu'),\n",
        "    tf.keras.layers.MaxPooling2D(2,2),\n",
        "    tf.keras.layers.Conv2D(64, (3,3), activation='relu'),\n",
        "    tf.keras.layers.MaxPooling2D(2,2),\n",
        "    tf.keras.layers.Flatten(),\n",
        "    tf.keras.layers.Dense(512, activation='relu'),\n",
        "    tf.keras.layers.Dense(1, activation='sigmoid')\n",
        "])\n",
        "\n",
        "\n",
        "model.compile(optimizer='Adam', loss='binary_crossentropy', metrics=['accuracy'])\n",
        "\n"
      ]
    },
    {
      "cell_type": "code",
      "execution_count": 6,
      "metadata": {
        "id": "Di3CWkVSPVWJ"
      },
      "outputs": [
        {
          "name": "stdout",
          "output_type": "stream",
          "text": [
            "Epoch 1/10\n",
            "33/33 [==============================] - 15s 403ms/step - loss: 5.7208 - accuracy: 0.6981 - val_loss: 1.1976 - val_accuracy: 0.5625\n",
            "Epoch 2/10\n",
            "33/33 [==============================] - 13s 407ms/step - loss: 0.1872 - accuracy: 0.9270 - val_loss: 1.6595 - val_accuracy: 0.7500\n",
            "Epoch 3/10\n",
            "33/33 [==============================] - 14s 431ms/step - loss: 0.0888 - accuracy: 0.9611 - val_loss: 1.6850 - val_accuracy: 0.7500\n",
            "Epoch 4/10\n",
            "33/33 [==============================] - 14s 420ms/step - loss: 0.0405 - accuracy: 0.9834 - val_loss: 0.0942 - val_accuracy: 0.9375\n",
            "Epoch 5/10\n",
            "33/33 [==============================] - 13s 409ms/step - loss: 0.0262 - accuracy: 0.9903 - val_loss: 1.9912 - val_accuracy: 0.8125\n",
            "Epoch 6/10\n",
            "33/33 [==============================] - 13s 394ms/step - loss: 0.0026 - accuracy: 1.0000 - val_loss: 1.5029 - val_accuracy: 0.8125\n",
            "Epoch 7/10\n",
            "33/33 [==============================] - 13s 393ms/step - loss: 5.4155e-04 - accuracy: 1.0000 - val_loss: 1.9203 - val_accuracy: 0.7812\n",
            "Epoch 8/10\n",
            "33/33 [==============================] - 13s 383ms/step - loss: 2.7659e-04 - accuracy: 1.0000 - val_loss: 2.0384 - val_accuracy: 0.7812\n",
            "Epoch 9/10\n",
            "33/33 [==============================] - 15s 449ms/step - loss: 1.8640e-04 - accuracy: 1.0000 - val_loss: 2.0763 - val_accuracy: 0.7812\n",
            "Epoch 10/10\n",
            "33/33 [==============================] - 13s 398ms/step - loss: 1.3053e-04 - accuracy: 1.0000 - val_loss: 2.1955 - val_accuracy: 0.7812\n"
          ]
        }
      ],
      "source": [
        "history = model.fit(train_batches, epochs=10, validation_data=validation_batches, validation_steps=1)"
      ]
    },
    {
      "cell_type": "code",
      "execution_count": null,
      "metadata": {
        "id": "HBOt70M1PVWJ"
      },
      "outputs": [],
      "source": []
    }
  ],
  "metadata": {
    "accelerator": "GPU",
    "colab": {
      "collapsed_sections": [],
      "include_colab_link": true,
      "name": "C3_W1_Lab_2_horses_or_humans.ipynb",
      "provenance": [],
      "toc_visible": true
    },
    "kernelspec": {
      "display_name": "tensorflow_gpu",
      "language": "python",
      "name": "tensorflow_gpu"
    },
    "language_info": {
      "codemirror_mode": {
        "name": "ipython",
        "version": 3
      },
      "file_extension": ".py",
      "mimetype": "text/x-python",
      "name": "python",
      "nbconvert_exporter": "python",
      "pygments_lexer": "ipython3",
      "version": "3.9.7"
    }
  },
  "nbformat": 4,
  "nbformat_minor": 0
}
